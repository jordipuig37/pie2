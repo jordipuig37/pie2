{
 "cells": [
  {
   "cell_type": "code",
   "execution_count": 62,
   "metadata": {},
   "outputs": [],
   "source": [
    "import pandas as pd\n",
    "df = pd.read_csv('film.csv', sep=';')"
   ]
  },
  {
   "cell_type": "code",
   "execution_count": 63,
   "metadata": {},
   "outputs": [
    {
     "data": {
      "text/html": [
       "<div>\n",
       "<style scoped>\n",
       "    .dataframe tbody tr th:only-of-type {\n",
       "        vertical-align: middle;\n",
       "    }\n",
       "\n",
       "    .dataframe tbody tr th {\n",
       "        vertical-align: top;\n",
       "    }\n",
       "\n",
       "    .dataframe thead th {\n",
       "        text-align: right;\n",
       "    }\n",
       "</style>\n",
       "<table border=\"1\" class=\"dataframe\">\n",
       "  <thead>\n",
       "    <tr style=\"text-align: right;\">\n",
       "      <th></th>\n",
       "      <th>Year</th>\n",
       "      <th>Length</th>\n",
       "      <th>Title</th>\n",
       "      <th>Subject</th>\n",
       "      <th>Actor</th>\n",
       "      <th>Actress</th>\n",
       "      <th>Director</th>\n",
       "      <th>Popularity</th>\n",
       "      <th>Awards</th>\n",
       "      <th>*Image</th>\n",
       "    </tr>\n",
       "  </thead>\n",
       "  <tbody>\n",
       "    <tr>\n",
       "      <th>0</th>\n",
       "      <td>1990</td>\n",
       "      <td>111.0</td>\n",
       "      <td>Tie Me Up! Tie Me Down!</td>\n",
       "      <td>Comedy</td>\n",
       "      <td>Banderas, Antonio</td>\n",
       "      <td>Abril, Victoria</td>\n",
       "      <td>Almod�var, Pedro</td>\n",
       "      <td>68.0</td>\n",
       "      <td>No</td>\n",
       "      <td>NicholasCage.png</td>\n",
       "    </tr>\n",
       "    <tr>\n",
       "      <th>1</th>\n",
       "      <td>1991</td>\n",
       "      <td>113.0</td>\n",
       "      <td>High Heels</td>\n",
       "      <td>Comedy</td>\n",
       "      <td>Bos�, Miguel</td>\n",
       "      <td>Abril, Victoria</td>\n",
       "      <td>Almod�var, Pedro</td>\n",
       "      <td>68.0</td>\n",
       "      <td>No</td>\n",
       "      <td>NicholasCage.png</td>\n",
       "    </tr>\n",
       "    <tr>\n",
       "      <th>2</th>\n",
       "      <td>1983</td>\n",
       "      <td>104.0</td>\n",
       "      <td>Dead Zone, The</td>\n",
       "      <td>Horror</td>\n",
       "      <td>Walken, Christopher</td>\n",
       "      <td>Adams, Brooke</td>\n",
       "      <td>Cronenberg, David</td>\n",
       "      <td>79.0</td>\n",
       "      <td>No</td>\n",
       "      <td>NicholasCage.png</td>\n",
       "    </tr>\n",
       "    <tr>\n",
       "      <th>3</th>\n",
       "      <td>1979</td>\n",
       "      <td>122.0</td>\n",
       "      <td>Cuba</td>\n",
       "      <td>Action</td>\n",
       "      <td>Connery, Sean</td>\n",
       "      <td>Adams, Brooke</td>\n",
       "      <td>Lester, Richard</td>\n",
       "      <td>6.0</td>\n",
       "      <td>No</td>\n",
       "      <td>seanConnery.png</td>\n",
       "    </tr>\n",
       "    <tr>\n",
       "      <th>4</th>\n",
       "      <td>1978</td>\n",
       "      <td>94.0</td>\n",
       "      <td>Days of Heaven</td>\n",
       "      <td>Drama</td>\n",
       "      <td>Gere, Richard</td>\n",
       "      <td>Adams, Brooke</td>\n",
       "      <td>Malick, Terrence</td>\n",
       "      <td>14.0</td>\n",
       "      <td>No</td>\n",
       "      <td>NicholasCage.png</td>\n",
       "    </tr>\n",
       "  </tbody>\n",
       "</table>\n",
       "</div>"
      ],
      "text/plain": [
       "   Year  Length                    Title Subject                Actor  \\\n",
       "0  1990   111.0  Tie Me Up! Tie Me Down!  Comedy    Banderas, Antonio   \n",
       "1  1991   113.0               High Heels  Comedy         Bos�, Miguel   \n",
       "2  1983   104.0           Dead Zone, The  Horror  Walken, Christopher   \n",
       "3  1979   122.0                     Cuba  Action        Connery, Sean   \n",
       "4  1978    94.0           Days of Heaven   Drama        Gere, Richard   \n",
       "\n",
       "           Actress           Director  Popularity Awards            *Image  \n",
       "0  Abril, Victoria   Almod�var, Pedro        68.0     No  NicholasCage.png  \n",
       "1  Abril, Victoria   Almod�var, Pedro        68.0     No  NicholasCage.png  \n",
       "2    Adams, Brooke  Cronenberg, David        79.0     No  NicholasCage.png  \n",
       "3    Adams, Brooke    Lester, Richard         6.0     No   seanConnery.png  \n",
       "4    Adams, Brooke   Malick, Terrence        14.0     No  NicholasCage.png  "
      ]
     },
     "execution_count": 63,
     "metadata": {},
     "output_type": "execute_result"
    }
   ],
   "source": [
    "df.head()"
   ]
  },
  {
   "cell_type": "code",
   "execution_count": 54,
   "metadata": {},
   "outputs": [],
   "source": [
    "dades = {\n",
    "    'Any' : df['Year'],\n",
    "    'Genere': df['Subject'],\n",
    "    'Durada': df['Length'],\n",
    "    'Premis': df['Awards'],\n",
    "    \n",
    "}\n",
    "cols = ['Channel', 'Priority', 'Units Sold', 'Profit']"
   ]
  },
  {
   "cell_type": "code",
   "execution_count": 55,
   "metadata": {},
   "outputs": [],
   "source": [
    "df2s = pd.DataFrame(dades, columns=cols)\n",
    "df2s.to_csv('bby_food.csv')"
   ]
  },
  {
   "cell_type": "code",
   "execution_count": null,
   "metadata": {},
   "outputs": [],
   "source": []
  }
 ],
 "metadata": {
  "kernelspec": {
   "display_name": "Python 3",
   "language": "python",
   "name": "python3"
  },
  "language_info": {
   "codemirror_mode": {
    "name": "ipython",
    "version": 3
   },
   "file_extension": ".py",
   "mimetype": "text/x-python",
   "name": "python",
   "nbconvert_exporter": "python",
   "pygments_lexer": "ipython3",
   "version": "3.7.3"
  }
 },
 "nbformat": 4,
 "nbformat_minor": 2
}
